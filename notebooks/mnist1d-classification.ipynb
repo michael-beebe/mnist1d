{
 "cells": [
  {
   "cell_type": "markdown",
   "id": "5134e153",
   "metadata": {},
   "source": [
    "# Benchmarking classification models on MNIST-1D"
   ]
  },
  {
   "cell_type": "code",
   "execution_count": 1,
   "id": "c4679237",
   "metadata": {},
   "outputs": [],
   "source": [
    "# Run this cell if you are in Colab \n",
    "# (otherwise make sure to do python -m pip install mnist1d first)\n",
    "\n",
    "#!python -m pip install git+https://github.com/michael-beebe/mnist1d.git@master\n",
    "    \n",
    "# Download repo directly (gives access to notebooks/models.py and notebooks/train.py)\n",
    "# !git clone https://github.com/michael-beebe/mnist1d"
   ]
  },
  {
   "cell_type": "code",
   "execution_count": 3,
   "id": "a60112cb",
   "metadata": {},
   "outputs": [],
   "source": [
    "import sys\n",
    "sys.path.append('./mnist1d/notebooks/')\n",
    "sys.path.append('./mnist1d/mnist1d/')\n",
    "\n",
    "from models import ConvBase, MLPBase, LinearBase, GRUBase\n",
    "from train import get_model_args, train_model\n",
    "from mnist1d.utils import set_seed\n",
    "\n",
    "import torch\n",
    "\n",
    "DEVICE = 'cuda' if torch.cuda.is_available() else 'cpu'"
   ]
  },
  {
   "cell_type": "code",
   "execution_count": 5,
   "id": "75018495",
   "metadata": {},
   "outputs": [],
   "source": [
    "# Load MNIST-1D\n",
    "# (loading from the web to make running in a Colab easier)\n",
    "\n",
    "from urllib.request import urlopen\n",
    "import pickle\n",
    "\n",
    "url = 'https://github.com/michael-beebe/mnist1d/raw/master/mnist1d_data.pkl'\n",
    "data = pickle.load(urlopen(url))"
   ]
  },
  {
   "cell_type": "markdown",
   "id": "72a7f0de",
   "metadata": {},
   "source": [
    "## Run the benchmarks"
   ]
  },
  {
   "cell_type": "code",
   "execution_count": 6,
   "id": "5b8a0c33",
   "metadata": {},
   "outputs": [
    {
     "name": "stdout",
     "output_type": "stream",
     "text": [
      "Initialized ConvBase model with 5210 parameters\n",
      "step 1000, dt 1.83s, train_loss 1.158e-01, test_loss 3.517e-01, train_acc 96.5, test_acc 87.9\n",
      "step 2000, dt 1.79s, train_loss 2.384e-02, test_loss 4.325e-01, train_acc 99.0, test_acc 90.8\n",
      "step 3000, dt 1.84s, train_loss 3.321e-02, test_loss 4.907e-01, train_acc 98.6, test_acc 90.6\n",
      "step 4000, dt 1.92s, train_loss 6.015e-04, test_loss 4.824e-01, train_acc 100.0, test_acc 92.2\n",
      "step 5000, dt 2.06s, train_loss 2.361e-04, test_loss 5.045e-01, train_acc 100.0, test_acc 91.9\n",
      "step 6000, dt 1.96s, train_loss 1.257e-04, test_loss 5.231e-01, train_acc 100.0, test_acc 92.3\n",
      "\n",
      "Initialized GRUBase model with 5134 parameters\n",
      "step 1000, dt 22.64s, train_loss 1.753e-01, test_loss 4.227e-01, train_acc 92.3, test_acc 86.1\n",
      "step 2000, dt 26.65s, train_loss 1.234e-01, test_loss 5.126e-01, train_acc 93.8, test_acc 86.5\n",
      "step 3000, dt 25.23s, train_loss 6.646e-02, test_loss 4.873e-01, train_acc 98.8, test_acc 89.2\n",
      "step 4000, dt 27.12s, train_loss 2.809e-02, test_loss 5.349e-01, train_acc 98.9, test_acc 90.3\n",
      "step 5000, dt 27.44s, train_loss 1.306e-02, test_loss 5.751e-01, train_acc 99.8, test_acc 89.9\n",
      "step 6000, dt 27.66s, train_loss 4.650e-03, test_loss 6.483e-01, train_acc 98.2, test_acc 89.1\n",
      "\n",
      "Initialized MLPBase model with 15210 parameters\n",
      "step 1000, dt 1.37s, train_loss 3.303e-01, test_loss 2.090e+00, train_acc 91.2, test_acc 60.9\n",
      "step 2000, dt 1.50s, train_loss 4.399e-02, test_loss 2.830e+00, train_acc 98.5, test_acc 64.7\n",
      "step 3000, dt 1.57s, train_loss 4.762e-04, test_loss 2.989e+00, train_acc 100.0, test_acc 65.6\n",
      "step 4000, dt 1.40s, train_loss 2.352e-04, test_loss 3.098e+00, train_acc 100.0, test_acc 65.2\n",
      "step 5000, dt 2.03s, train_loss 1.353e-04, test_loss 3.195e+00, train_acc 100.0, test_acc 65.7\n",
      "step 6000, dt 1.51s, train_loss 8.083e-05, test_loss 3.294e+00, train_acc 100.0, test_acc 65.1\n",
      "\n",
      "Initialized LinearBase model with 410 parameters\n",
      "step 1000, dt 0.77s, train_loss 1.539e+00, test_loss 1.663e+00, train_acc 37.2, test_acc 32.1\n",
      "step 2000, dt 0.58s, train_loss 1.535e+00, test_loss 1.667e+00, train_acc 37.0, test_acc 32.0\n",
      "step 3000, dt 0.56s, train_loss 1.534e+00, test_loss 1.670e+00, train_acc 37.1, test_acc 31.6\n",
      "step 4000, dt 0.71s, train_loss 1.535e+00, test_loss 1.671e+00, train_acc 37.3, test_acc 31.3\n",
      "step 5000, dt 0.60s, train_loss 1.535e+00, test_loss 1.672e+00, train_acc 37.2, test_acc 31.5\n",
      "step 6000, dt 0.58s, train_loss 1.535e+00, test_loss 1.672e+00, train_acc 37.2, test_acc 31.5\n",
      "\n"
     ]
    }
   ],
   "source": [
    "# Note: if you run on a GPU, the walltimes will be _much_ lower\n",
    "\n",
    "args = get_model_args()\n",
    "args.total_steps = 6000\n",
    "args.device = DEVICE\n",
    "\n",
    "set_seed(args.seed)\n",
    "model = ConvBase(output_size=args.output_size)\n",
    "results_cnn = train_model(data, model, args)\n",
    "print()\n",
    "\n",
    "set_seed(args.seed)\n",
    "model = GRUBase(input_size=1, output_size=args.output_size)\n",
    "results_gru = train_model(data, model, args)\n",
    "print()\n",
    "\n",
    "set_seed(args.seed)\n",
    "model = MLPBase(args.input_size, args.output_size)\n",
    "results_mlp = train_model(data, model, args)\n",
    "print()\n",
    "\n",
    "set_seed(args.seed)\n",
    "model = LinearBase(args.input_size, args.output_size)\n",
    "results_lin = train_model(data, model, args)"
   ]
  },
  {
   "cell_type": "code",
   "execution_count": 14,
   "id": "46b41980",
   "metadata": {},
   "outputs": [],
   "source": [
    "# Shuffle the pixels\n",
    "\n",
    "import numpy as np\n",
    "\n",
    "np.random.seed(42)\n",
    "shuffled_order = np.random.permutation(data['x'].shape[1])\n",
    "\n",
    "data_shuff = data.copy()\n",
    "data_shuff['x'] = data_shuff['x'][:, shuffled_order]\n",
    "data_shuff['x_test'] = data_shuff['x_test'][:, shuffled_order]"
   ]
  },
  {
   "cell_type": "code",
   "execution_count": 15,
   "id": "1671e0af",
   "metadata": {},
   "outputs": [
    {
     "name": "stdout",
     "output_type": "stream",
     "text": [
      "Initialized ConvBase model with 5210 parameters\n",
      "step 1000, dt 1.80s, train_loss 5.503e-01, test_loss 1.630e+00, train_acc 73.0, test_acc 53.3\n",
      "step 2000, dt 1.83s, train_loss 2.484e-01, test_loss 2.053e+00, train_acc 83.4, test_acc 56.6\n",
      "step 3000, dt 2.02s, train_loss 4.203e-01, test_loss 2.405e+00, train_acc 83.3, test_acc 54.7\n",
      "step 4000, dt 2.01s, train_loss 2.079e-01, test_loss 3.117e+00, train_acc 90.7, test_acc 57.7\n",
      "step 5000, dt 1.95s, train_loss 1.932e-01, test_loss 3.580e+00, train_acc 90.4, test_acc 58.3\n",
      "step 6000, dt 2.01s, train_loss 1.257e-01, test_loss 4.385e+00, train_acc 92.0, test_acc 58.7\n",
      "\n",
      "Initialized GRUBase model with 5134 parameters\n",
      "step 1000, dt 26.13s, train_loss 7.978e-01, test_loss 1.129e+00, train_acc 72.8, test_acc 56.8\n",
      "step 2000, dt 33.21s, train_loss 6.272e-01, test_loss 1.417e+00, train_acc 80.9, test_acc 56.2\n",
      "step 3000, dt 29.63s, train_loss 5.342e-01, test_loss 1.577e+00, train_acc 84.4, test_acc 55.8\n",
      "step 4000, dt 31.62s, train_loss 5.860e-01, test_loss 1.956e+00, train_acc 82.8, test_acc 53.8\n",
      "step 5000, dt 34.38s, train_loss 4.179e-01, test_loss 2.077e+00, train_acc 87.8, test_acc 54.4\n",
      "step 6000, dt 29.49s, train_loss 3.777e-01, test_loss 2.377e+00, train_acc 87.1, test_acc 53.3\n",
      "\n",
      "Initialized MLPBase model with 15210 parameters\n",
      "step 1000, dt 1.36s, train_loss 2.199e-01, test_loss 1.870e+00, train_acc 89.5, test_acc 61.1\n",
      "step 2000, dt 1.45s, train_loss 7.136e-03, test_loss 2.435e+00, train_acc 99.9, test_acc 65.5\n",
      "step 3000, dt 1.48s, train_loss 7.508e-04, test_loss 2.566e+00, train_acc 100.0, test_acc 66.5\n",
      "step 4000, dt 1.47s, train_loss 3.654e-04, test_loss 2.728e+00, train_acc 100.0, test_acc 66.1\n",
      "step 5000, dt 2.15s, train_loss 2.058e-04, test_loss 2.878e+00, train_acc 100.0, test_acc 66.0\n",
      "step 6000, dt 1.98s, train_loss 1.162e-04, test_loss 3.023e+00, train_acc 100.0, test_acc 66.0\n",
      "\n",
      "Initialized LinearBase model with 410 parameters\n",
      "step 1000, dt 0.76s, train_loss 1.537e+00, test_loss 1.662e+00, train_acc 36.9, test_acc 32.3\n",
      "step 2000, dt 0.59s, train_loss 1.534e+00, test_loss 1.667e+00, train_acc 37.0, test_acc 31.6\n",
      "step 3000, dt 0.86s, train_loss 1.534e+00, test_loss 1.670e+00, train_acc 37.2, test_acc 31.4\n",
      "step 4000, dt 0.64s, train_loss 1.534e+00, test_loss 1.671e+00, train_acc 37.2, test_acc 31.3\n",
      "step 5000, dt 0.74s, train_loss 1.535e+00, test_loss 1.672e+00, train_acc 37.2, test_acc 31.5\n",
      "step 6000, dt 0.57s, train_loss 1.535e+00, test_loss 1.672e+00, train_acc 37.2, test_acc 31.5\n"
     ]
    }
   ],
   "source": [
    "set_seed(args.seed)\n",
    "model = ConvBase(output_size=args.output_size)\n",
    "results_cnn_shuff = train_model(data_shuff, model, args)\n",
    "print()\n",
    "\n",
    "set_seed(args.seed)\n",
    "model = GRUBase(input_size=1, output_size=args.output_size)\n",
    "results_gru_shuff = train_model(data_shuff, model, args)\n",
    "print()\n",
    "\n",
    "set_seed(args.seed)\n",
    "model = MLPBase(args.input_size, args.output_size)\n",
    "results_mlp_shuff = train_model(data_shuff, model, args)\n",
    "print()\n",
    "\n",
    "set_seed(args.seed)\n",
    "model = LinearBase(args.input_size, args.output_size)\n",
    "results_lin_shuff = train_model(data_shuff, model, args)"
   ]
  },
  {
   "cell_type": "markdown",
   "id": "8f5781f8",
   "metadata": {},
   "source": [
    "## Construct the figure"
   ]
  },
  {
   "cell_type": "code",
   "execution_count": 60,
   "id": "c3d48048",
   "metadata": {},
   "outputs": [
    {
     "data": {
      "image/png": "[encoded data removed]",
      "text/plain": [
       "<Figure size 438.75x303.75 with 2 Axes>"
      ]
     },
     "metadata": {},
     "output_type": "display_data"
    }
   ],
   "source": [
    "import pylab as plt\n",
    "\n",
    "# Figure style (loading from the web to make running in a Colab easier)\n",
    "plt.style.use('https://github.com/michael-beebe/mnist1d/raw/master/notebooks/mpl_style.txt')\n",
    "\n",
    "fig, axs = plt.subplots(ncols=2, figsize=(3.25, 2.25))\n",
    "\n",
    "steps = 6000\n",
    "eval_every = 250\n",
    "t = range(0, steps + 1, eval_every)\n",
    "\n",
    "axs[0].plot(t, results_lin['train_acc'], '-', color='tab:red', label='Logistic')\n",
    "axs[0].plot(t, results_lin_shuff['train_acc'], '--', color='tab:red')\n",
    "\n",
    "axs[0].plot(t, results_mlp['train_acc'], '-', color='tab:green', label='MLP', clip_on=False)\n",
    "axs[0].plot(t, results_mlp_shuff['train_acc'], '--', color='tab:green', clip_on=False)\n",
    "\n",
    "axs[0].plot(t, results_cnn['train_acc'], '-', color='tab:blue', label='CNN', clip_on=False)\n",
    "axs[0].plot(t, results_cnn_shuff['train_acc'], '--', color='tab:blue', clip_on=False)\n",
    "\n",
    "axs[0].plot(t, results_gru['train_acc'], '-', color='tab:orange', label='GRU', clip_on=False)\n",
    "axs[0].plot(t, results_gru_shuff['train_acc'], '--', color='tab:orange', clip_on=False)\n",
    "\n",
    "axs[0].plot(t, [-1] * len(t), 'k--', label='After shuffling')\n",
    "\n",
    "###\n",
    "\n",
    "axs[1].plot(t, results_lin['test_acc'], '-', color='tab:red', label='logistic')\n",
    "axs[1].plot(t, results_lin_shuff['test_acc'], '--', color='tab:red')\n",
    "\n",
    "axs[1].plot(t, results_mlp['test_acc'], '-', color='tab:green', label='mlp')\n",
    "axs[1].plot(t, results_mlp_shuff['test_acc'], '--', color='tab:green')\n",
    "\n",
    "axs[1].plot(t, results_cnn['test_acc'], '-', color='tab:blue', label='cnn')\n",
    "axs[1].plot(t, results_cnn_shuff['test_acc'], '--', color='tab:blue')\n",
    "\n",
    "axs[1].plot(t, results_gru['test_acc'], '-', color='tab:orange', label='gru')\n",
    "axs[1].plot(t, results_gru_shuff['test_acc'], '--', color='tab:orange')\n",
    "\n",
    "axs[1].plot(t, [95.8] * len(t), 'k-')\n",
    "axs[1].text(0, 91, 'Human')\n",
    "\n",
    "axs[0].set_title('Training accuracy')\n",
    "axs[1].set_title('Test accuracy')\n",
    "axs[1].set_xlabel(\"Training step\")\n",
    "axs[0].set_xlabel(\"Training step\")\n",
    "axs[0].set_ylabel(\"Accuracy (%)\")\n",
    "axs[0].legend()\n",
    "axs[0].set_ylim(0, 100)\n",
    "axs[1].set_ylim(0, 100)\n",
    "\n",
    "fig.text(0, .95, 'a', fontsize=8, weight='bold')\n",
    "fig.text(.5, .95, 'b', fontsize=8, weight='bold')\n",
    "\n",
    "plt.show()\n",
    "\n",
    "fig.savefig('figures/benchmark.png', dpi=300)\n",
    "fig.savefig('figures/benchmark.pdf')"
   ]
  }
 ],
 "metadata": {
  "kernelspec": {
   "display_name": "Python 3",
   "language": "python",
   "name": "python3"
  },
  "language_info": {
   "codemirror_mode": {
    "name": "ipython",
    "version": 3
   },
   "file_extension": ".py",
   "mimetype": "text/x-python",
   "name": "python",
   "nbconvert_exporter": "python",
   "pygments_lexer": "ipython3",
   "version": "3.7.9"
  }
 },
 "nbformat": 4,
 "nbformat_minor": 5
}
